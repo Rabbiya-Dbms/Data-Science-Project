{
 "cells": [
  {
   "cell_type": "markdown",
   "metadata": {},
   "source": [
    "#Data Wrangling\n",
    "#exloration"
   ]
  },
  {
   "cell_type": "code",
   "execution_count": 1,
   "metadata": {},
   "outputs": [],
   "source": [
    "import pandas as pd"
   ]
  },
  {
   "cell_type": "code",
   "execution_count": 2,
   "metadata": {},
   "outputs": [],
   "source": [
    "data = pd.read_json (r'C:\\Users\\home1\\OneDrive\\Desktop\\datasci\\intents.json')"
   ]
  },
  {
   "cell_type": "code",
   "execution_count": 3,
   "metadata": {},
   "outputs": [
    {
     "data": {
      "text/html": [
       "<div>\n",
       "<style scoped>\n",
       "    .dataframe tbody tr th:only-of-type {\n",
       "        vertical-align: middle;\n",
       "    }\n",
       "\n",
       "    .dataframe tbody tr th {\n",
       "        vertical-align: top;\n",
       "    }\n",
       "\n",
       "    .dataframe thead th {\n",
       "        text-align: right;\n",
       "    }\n",
       "</style>\n",
       "<table border=\"1\" class=\"dataframe\">\n",
       "  <thead>\n",
       "    <tr style=\"text-align: right;\">\n",
       "      <th></th>\n",
       "      <th>intents</th>\n",
       "    </tr>\n",
       "  </thead>\n",
       "  <tbody>\n",
       "    <tr>\n",
       "      <th>0</th>\n",
       "      <td>{'tag': 'greeting', 'patterns': ['Hi there', '...</td>\n",
       "    </tr>\n",
       "    <tr>\n",
       "      <th>1</th>\n",
       "      <td>{'tag': 'goodbye', 'patterns': ['Bye', 'See yo...</td>\n",
       "    </tr>\n",
       "    <tr>\n",
       "      <th>2</th>\n",
       "      <td>{'tag': 'thanks', 'patterns': ['Thanks', 'NaN'...</td>\n",
       "    </tr>\n",
       "    <tr>\n",
       "      <th>3</th>\n",
       "      <td>{'tag': 'noanswer', 'patterns': [], 'responses...</td>\n",
       "    </tr>\n",
       "    <tr>\n",
       "      <th>4</th>\n",
       "      <td>{'tag': 'options', 'patterns': ['How you could...</td>\n",
       "    </tr>\n",
       "    <tr>\n",
       "      <th>5</th>\n",
       "      <td>{'tag': 'adverse_drug', 'patterns': ['How to c...</td>\n",
       "    </tr>\n",
       "    <tr>\n",
       "      <th>6</th>\n",
       "      <td>{'tag': 'blood_pressure', 'patterns': ['Open b...</td>\n",
       "    </tr>\n",
       "    <tr>\n",
       "      <th>7</th>\n",
       "      <td>{'tag': 'blood_pressure_search', 'patterns': [...</td>\n",
       "    </tr>\n",
       "    <tr>\n",
       "      <th>8</th>\n",
       "      <td>{'tag': 'search_blood_pressure_by_patient_id',...</td>\n",
       "    </tr>\n",
       "    <tr>\n",
       "      <th>9</th>\n",
       "      <td>{'tag': 'pharmacy_search', 'patterns': ['Find ...</td>\n",
       "    </tr>\n",
       "    <tr>\n",
       "      <th>10</th>\n",
       "      <td>{'tag': 'search_pharmacy_by_name', 'patterns':...</td>\n",
       "    </tr>\n",
       "    <tr>\n",
       "      <th>11</th>\n",
       "      <td>{'tag': 'hospital_search', 'patterns': ['Looku...</td>\n",
       "    </tr>\n",
       "    <tr>\n",
       "      <th>12</th>\n",
       "      <td>{'tag': 'search_hospital_by_params', 'patterns...</td>\n",
       "    </tr>\n",
       "    <tr>\n",
       "      <th>13</th>\n",
       "      <td>{'tag': 'search_hospital_by_type', 'patterns':...</td>\n",
       "    </tr>\n",
       "    <tr>\n",
       "      <th>14</th>\n",
       "      <td>{'tag': 'XYZ medicine available in pharmacy?',...</td>\n",
       "    </tr>\n",
       "  </tbody>\n",
       "</table>\n",
       "</div>"
      ],
      "text/plain": [
       "                                              intents\n",
       "0   {'tag': 'greeting', 'patterns': ['Hi there', '...\n",
       "1   {'tag': 'goodbye', 'patterns': ['Bye', 'See yo...\n",
       "2   {'tag': 'thanks', 'patterns': ['Thanks', 'NaN'...\n",
       "3   {'tag': 'noanswer', 'patterns': [], 'responses...\n",
       "4   {'tag': 'options', 'patterns': ['How you could...\n",
       "5   {'tag': 'adverse_drug', 'patterns': ['How to c...\n",
       "6   {'tag': 'blood_pressure', 'patterns': ['Open b...\n",
       "7   {'tag': 'blood_pressure_search', 'patterns': [...\n",
       "8   {'tag': 'search_blood_pressure_by_patient_id',...\n",
       "9   {'tag': 'pharmacy_search', 'patterns': ['Find ...\n",
       "10  {'tag': 'search_pharmacy_by_name', 'patterns':...\n",
       "11  {'tag': 'hospital_search', 'patterns': ['Looku...\n",
       "12  {'tag': 'search_hospital_by_params', 'patterns...\n",
       "13  {'tag': 'search_hospital_by_type', 'patterns':...\n",
       "14  {'tag': 'XYZ medicine available in pharmacy?',..."
      ]
     },
     "execution_count": 3,
     "metadata": {},
     "output_type": "execute_result"
    }
   ],
   "source": [
    "# Convert into DataFrame\n",
    "df = pd.DataFrame(data)\n",
    "# Display data\n",
    "df"
   ]
  },
  {
   "cell_type": "markdown",
   "metadata": {},
   "source": [
    "#Missing values"
   ]
  },
  {
   "cell_type": "code",
   "execution_count": 4,
   "metadata": {},
   "outputs": [
    {
     "name": "stdout",
     "output_type": "stream",
     "text": [
      "['Hi there', 'NaN', 'Is anyone there?', 'Hey', 'NaN', 'Hello', 'Good day']\n",
      "['Hi there', 'Is anyone there?', 'Hey', 'Hello', 'Good day']\n"
     ]
    }
   ],
   "source": [
    "import pandas as pd\n",
    "\n",
    "\n",
    "data = [\"Hi there\",  'NaN', \"Is anyone there?\",\"Hey\", 'NaN', \"Hello\", \"Good day\"]\n",
    "\n",
    "\n",
    "print(data)\n",
    "newData = [x for x in data if pd.isnull(x) == False and x != 'NaN']\n",
    "print(newData)"
   ]
  },
  {
   "cell_type": "markdown",
   "metadata": {},
   "source": [
    "#Reshaping"
   ]
  },
  {
   "cell_type": "code",
   "execution_count": 5,
   "metadata": {},
   "outputs": [
    {
     "data": {
      "text/html": [
       "<div>\n",
       "<style scoped>\n",
       "    .dataframe tbody tr th:only-of-type {\n",
       "        vertical-align: middle;\n",
       "    }\n",
       "\n",
       "    .dataframe tbody tr th {\n",
       "        vertical-align: top;\n",
       "    }\n",
       "\n",
       "    .dataframe thead th {\n",
       "        text-align: right;\n",
       "    }\n",
       "</style>\n",
       "<table border=\"1\" class=\"dataframe\">\n",
       "  <thead>\n",
       "    <tr style=\"text-align: right;\">\n",
       "      <th></th>\n",
       "      <th>responses</th>\n",
       "    </tr>\n",
       "  </thead>\n",
       "  <tbody>\n",
       "    <tr>\n",
       "      <th>0</th>\n",
       "      <td>Yes</td>\n",
       "    </tr>\n",
       "    <tr>\n",
       "      <th>1</th>\n",
       "      <td>No</td>\n",
       "    </tr>\n",
       "  </tbody>\n",
       "</table>\n",
       "</div>"
      ],
      "text/plain": [
       "  responses\n",
       "0       Yes\n",
       "1        No"
      ]
     },
     "execution_count": 5,
     "metadata": {},
     "output_type": "execute_result"
    }
   ],
   "source": [
    "# Assign data\n",
    "data = {'responses': [\"Yes\",\"No\"]}\n",
    "# Convert into DataFrame\n",
    "df = pd.DataFrame(data)\n",
    "# Display data\n",
    "df"
   ]
  },
  {
   "cell_type": "code",
   "execution_count": 6,
   "metadata": {},
   "outputs": [
    {
     "data": {
      "text/html": [
       "<div>\n",
       "<style scoped>\n",
       "    .dataframe tbody tr th:only-of-type {\n",
       "        vertical-align: middle;\n",
       "    }\n",
       "\n",
       "    .dataframe tbody tr th {\n",
       "        vertical-align: top;\n",
       "    }\n",
       "\n",
       "    .dataframe thead th {\n",
       "        text-align: right;\n",
       "    }\n",
       "</style>\n",
       "<table border=\"1\" class=\"dataframe\">\n",
       "  <thead>\n",
       "    <tr style=\"text-align: right;\">\n",
       "      <th></th>\n",
       "      <th>responses</th>\n",
       "    </tr>\n",
       "  </thead>\n",
       "  <tbody>\n",
       "    <tr>\n",
       "      <th>0</th>\n",
       "      <td>0.0</td>\n",
       "    </tr>\n",
       "    <tr>\n",
       "      <th>1</th>\n",
       "      <td>1.0</td>\n",
       "    </tr>\n",
       "  </tbody>\n",
       "</table>\n",
       "</div>"
      ],
      "text/plain": [
       "   responses\n",
       "0        0.0\n",
       "1        1.0"
      ]
     },
     "execution_count": 6,
     "metadata": {},
     "output_type": "execute_result"
    }
   ],
   "source": [
    "df['responses'] = df['responses'].map({'Yes': 0, \n",
    "                                 'No': 1, }).astype(float)\n",
    "# Display data\n",
    "df"
   ]
  },
  {
   "cell_type": "markdown",
   "metadata": {},
   "source": [
    "#Filtering"
   ]
  },
  {
   "cell_type": "code",
   "execution_count": null,
   "metadata": {},
   "outputs": [],
   "source": []
  },
  {
   "cell_type": "code",
   "execution_count": 8,
   "metadata": {},
   "outputs": [
    {
     "name": "stdout",
     "output_type": "stream",
     "text": [
      "        tag                                           patterns  \\\n",
      "0  greeting  [Hi there, NaN, Is anyone there?, Hey, Hola, H...   \n",
      "1   goodbye  [Bye, See you later, Goodbye, Nice chatting to...   \n",
      "2    thanks  [Thanks, NaN, That's helpful, Awesome, thanks,...   \n",
      "\n",
      "                                           responses context  \n",
      "0  [Hello, thanks for asking, Good to see you aga...      []  \n",
      "1  [See you!, Have a nice day, Bye! Come back aga...      []  \n",
      "2           [Happy to help!, Any time!, My pleasure]      []  \n"
     ]
    }
   ],
   "source": [
    "import pandas as pd\n",
    "import json\n",
    "\n",
    "#json string\n",
    "json_string = '''\n",
    "[\n",
    "        {\"tag\": \"greeting\",\n",
    "         \"patterns\": [\"Hi there\", \"NaN\", \"Is anyone there?\",\"Hey\",\"Hola\", \"Hello\", \"Good day\"],\n",
    "         \"responses\": [\"Hello, thanks for asking\", \"Good to see you again\", \"Hi there, how can I help?\"],\n",
    "         \"context\": [\"\"]\n",
    "        },\n",
    "        {\"tag\": \"goodbye\",\n",
    "         \"patterns\": [\"Bye\", \"See you later\", \"Goodbye\", \"Nice chatting to you, bye\", \"Till next time\"],\n",
    "         \"responses\": [\"See you!\", \"Have a nice day\", \"Bye! Come back again soon.\"],\n",
    "         \"context\": [\"\"]\n",
    "        },\n",
    "        {\"tag\": \"thanks\",\n",
    "         \"patterns\": [\"Thanks\", \"NaN\", \"That's helpful\", \"Awesome, thanks\", \"Thanks for helping me\"],\n",
    "         \"responses\": [\"Happy to help!\", \"Any time!\", \"My pleasure\"],\n",
    "         \"context\": [\"\"]\n",
    "        }\n",
    "]\n",
    "'''\n",
    "# Load json data and convert to Dataframe \n",
    "df = pd.json_normalize(json.loads(json_string)) \n",
    "# Display the Dataframe\n",
    "print(df)"
   ]
  },
  {
   "cell_type": "markdown",
   "metadata": {},
   "source": [
    "#wrangling by removing duplicates, filtering"
   ]
  },
  {
   "cell_type": "code",
   "execution_count": 11,
   "metadata": {},
   "outputs": [
    {
     "name": "stdout",
     "output_type": "stream",
     "text": [
      "           patterns                  responses\n",
      "0          Hi there   Hello, thanks for asking\n",
      "1              Hola      Good to see you again\n",
      "2  Is anyone there?  Hi there, how can I help?\n",
      "3               Hey   Hello, thanks for asking\n",
      "5             Hello   Hello, thanks for asking\n",
      "6          Good day   Hello, thanks for asking\n"
     ]
    }
   ],
   "source": [
    "# import module\n",
    "import pandas as pd\n",
    "\n",
    "# initializing Data\n",
    "data = {\n",
    "        'patterns': [\"Hi there\", \"Hola\", \"Is anyone there?\",\"Hey\",\"Hola\", \"Hello\", \"Good day\",\"Hola\",\"Hi there\"],\n",
    "        'responses': [\"Hello, thanks for asking\", \"Good to see you again\", \"Hi there, how can I help?\",\"Hello, thanks for asking\",\"Hello, thanks for asking\",\"Hello, thanks for asking\",\"Hello, thanks for asking\",\"Hello, thanks for asking\",\"Hello, thanks for asking\"],\n",
    "        }\n",
    "\n",
    "# creating dataframe\n",
    "df = pd.DataFrame(data)\n",
    "\n",
    "# Here df.duplicated() list duplicate Entries in ROllno.\n",
    "# So that ~(NOT) is placed in order to get non duplicate values.\n",
    "non_dup = df[~df.duplicated('patterns')]\n",
    "\n",
    "# printing non-duplicate values\n",
    "print(non_dup)\n"
   ]
  },
  {
   "cell_type": "code",
   "execution_count": null,
   "metadata": {},
   "outputs": [],
   "source": []
  }
 ],
 "metadata": {
  "kernelspec": {
   "display_name": "Python 3",
   "language": "python",
   "name": "python3"
  },
  "language_info": {
   "codemirror_mode": {
    "name": "ipython",
    "version": 3
   },
   "file_extension": ".py",
   "mimetype": "text/x-python",
   "name": "python",
   "nbconvert_exporter": "python",
   "pygments_lexer": "ipython3",
   "version": "3.8.3"
  }
 },
 "nbformat": 4,
 "nbformat_minor": 4
}
